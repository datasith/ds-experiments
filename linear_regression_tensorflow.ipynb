{
 "cells": [
  {
   "cell_type": "code",
   "execution_count": 5,
   "metadata": {},
   "outputs": [],
   "source": [
    "import pandas as pd\n",
    "import numpy as np\n",
    "from linear_regression_tensorflow import build_linear_model"
   ]
  },
  {
   "cell_type": "code",
   "execution_count": 6,
   "metadata": {},
   "outputs": [
    {
     "name": "stdout",
     "output_type": "stream",
     "text": [
      "         x0        x1  label\n",
      "0 -3.130815 -2.764355      0\n",
      "1 -4.704166 -2.061177      0\n",
      "2  3.253220 -2.016516      1\n",
      "3 -1.049724 -3.705425      0\n",
      "4 -2.605463 -4.632625      0\n",
      "Epoch 1/5\n"
     ]
    },
    {
     "name": "stderr",
     "output_type": "stream",
     "text": [
      "2022-05-16 10:55:59.354017: W tensorflow/core/platform/profile_utils/cpu_utils.cc:128] Failed to get CPU frequency: 0 Hz\n",
      "/Users/datasith/Work/venv/lib/python3.8/site-packages/tensorflow/python/util/dispatch.py:1082: UserWarning: \"`sparse_categorical_crossentropy` received `from_logits=True`, but the `output` argument was produced by a sigmoid or softmax activation and thus does not represent logits. Was this intended?\"\n",
      "  return dispatch_target(*args, **kwargs)\n"
     ]
    },
    {
     "name": "stdout",
     "output_type": "stream",
     "text": [
      "1000/1000 [==============================] - 0s 309us/step - loss: 0.2465 - accuracy: 0.9615\n",
      "Epoch 2/5\n",
      "1000/1000 [==============================] - 0s 299us/step - loss: 0.1052 - accuracy: 0.9950\n",
      "Epoch 3/5\n",
      "1000/1000 [==============================] - 0s 265us/step - loss: 0.0606 - accuracy: 0.9958\n",
      "Epoch 4/5\n",
      "1000/1000 [==============================] - 0s 270us/step - loss: 0.0327 - accuracy: 0.9952\n",
      "Epoch 5/5\n",
      "1000/1000 [==============================] - 0s 264us/step - loss: 0.0313 - accuracy: 0.9955\n"
     ]
    }
   ],
   "source": [
    "# load the training data and train the model\n",
    "train_df = pd.read_csv('./datasets/linear/train.csv')\n",
    "np.random.shuffle(train_df.values)\n",
    "print(train_df.head())\n",
    "model = build_linear_model(train_df)"
   ]
  },
  {
   "cell_type": "code",
   "execution_count": 4,
   "metadata": {},
   "outputs": [
    {
     "ename": "NameError",
     "evalue": "name 'pd' is not defined",
     "output_type": "error",
     "traceback": [
      "\u001b[0;31m---------------------------------------------------------------------------\u001b[0m",
      "\u001b[0;31mNameError\u001b[0m                                 Traceback (most recent call last)",
      "\u001b[1;32m/Users/datasith/Work/ds-experiments/linear_regression_tensorflow.ipynb Cell 3'\u001b[0m in \u001b[0;36m<cell line: 2>\u001b[0;34m()\u001b[0m\n\u001b[1;32m      <a href='vscode-notebook-cell:/Users/datasith/Work/ds-experiments/linear_regression_tensorflow.ipynb#ch0000002?line=0'>1</a>\u001b[0m \u001b[39m# load the test data and evaluate the model\u001b[39;00m\n\u001b[0;32m----> <a href='vscode-notebook-cell:/Users/datasith/Work/ds-experiments/linear_regression_tensorflow.ipynb#ch0000002?line=1'>2</a>\u001b[0m test_df \u001b[39m=\u001b[39m pd\u001b[39m.\u001b[39mread_csv(\u001b[39m'\u001b[39m\u001b[39m./datasets/linear/test.csv\u001b[39m\u001b[39m'\u001b[39m)\n\u001b[1;32m      <a href='vscode-notebook-cell:/Users/datasith/Work/ds-experiments/linear_regression_tensorflow.ipynb#ch0000002?line=2'>3</a>\u001b[0m test_x \u001b[39m=\u001b[39m np\u001b[39m.\u001b[39mcolumn_stack((test_df\u001b[39m.\u001b[39mx0\u001b[39m.\u001b[39mvalues, test_df\u001b[39m.\u001b[39mx1\u001b[39m.\u001b[39mvalues))\n\u001b[1;32m      <a href='vscode-notebook-cell:/Users/datasith/Work/ds-experiments/linear_regression_tensorflow.ipynb#ch0000002?line=3'>4</a>\u001b[0m \u001b[39mprint\u001b[39m(\u001b[39m\"\u001b[39m\u001b[39mEVALUATION\u001b[39m\u001b[39m\"\u001b[39m)\n",
      "\u001b[0;31mNameError\u001b[0m: name 'pd' is not defined"
     ]
    }
   ],
   "source": [
    "# load the test data and evaluate the model\n",
    "test_df = pd.read_csv('./datasets/linear/test.csv')\n",
    "test_x = np.column_stack((test_df.x0.values, test_df.x1.values))\n",
    "print(\"EVALUATION\")\n",
    "model.evaluate(test_x, test_df.label.values)"
   ]
  },
  {
   "cell_type": "code",
   "execution_count": null,
   "metadata": {},
   "outputs": [],
   "source": []
  }
 ],
 "metadata": {
  "interpreter": {
   "hash": "6d23b6ce06cef9a43c42598a33140bfd5d2a5cd66dc37a3339483c8b5d0164e0"
  },
  "kernelspec": {
   "display_name": "Python 3.8.9 ('venv': venv)",
   "language": "python",
   "name": "python3"
  },
  "language_info": {
   "codemirror_mode": {
    "name": "ipython",
    "version": 3
   },
   "file_extension": ".py",
   "mimetype": "text/x-python",
   "name": "python",
   "nbconvert_exporter": "python",
   "pygments_lexer": "ipython3",
   "version": "3.8.9"
  },
  "orig_nbformat": 4
 },
 "nbformat": 4,
 "nbformat_minor": 2
}
