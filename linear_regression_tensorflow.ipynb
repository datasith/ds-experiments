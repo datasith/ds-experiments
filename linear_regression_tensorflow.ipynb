{
 "cells": [
  {
   "cell_type": "code",
   "execution_count": 8,
   "metadata": {},
   "outputs": [],
   "source": [
    "import pandas as pd\n",
    "import numpy as np\n",
    "from linear_regression_tensorflow import build_linear_model"
   ]
  },
  {
   "cell_type": "code",
   "execution_count": 9,
   "metadata": {},
   "outputs": [
    {
     "name": "stdout",
     "output_type": "stream",
     "text": [
      "         x0        x1  label\n",
      "0 -3.130815 -2.764355      0\n",
      "1 -4.704166 -2.061177      0\n",
      "2  3.253220 -2.016516      1\n",
      "3 -1.049724 -3.705425      0\n",
      "4 -2.605463 -4.632625      0\n",
      "Epoch 1/5\n"
     ]
    },
    {
     "name": "stderr",
     "output_type": "stream",
     "text": [
      "/Users/datasith/Work/venv/lib/python3.8/site-packages/tensorflow/python/util/dispatch.py:1082: UserWarning: \"`sparse_categorical_crossentropy` received `from_logits=True`, but the `output` argument was produced by a sigmoid or softmax activation and thus does not represent logits. Was this intended?\"\n",
      "  return dispatch_target(*args, **kwargs)\n"
     ]
    },
    {
     "name": "stdout",
     "output_type": "stream",
     "text": [
      "1000/1000 [==============================] - 1s 281us/step - loss: 0.1198 - accuracy: 0.9753\n",
      "Epoch 2/5\n",
      "1000/1000 [==============================] - 0s 293us/step - loss: 0.0378 - accuracy: 0.9937\n",
      "Epoch 3/5\n",
      "1000/1000 [==============================] - 0s 270us/step - loss: 0.0345 - accuracy: 0.9940\n",
      "Epoch 4/5\n",
      "1000/1000 [==============================] - 0s 273us/step - loss: 0.0335 - accuracy: 0.9945\n",
      "Epoch 5/5\n",
      "1000/1000 [==============================] - 0s 268us/step - loss: 0.0327 - accuracy: 0.9945\n"
     ]
    }
   ],
   "source": [
    "# load the training data and train the model\n",
    "train_df = pd.read_csv('./datasets/linear/train.csv')\n",
    "np.random.shuffle(train_df.values)\n",
    "print(train_df.head())\n",
    "model = build_linear_model(train_df)"
   ]
  },
  {
   "cell_type": "code",
   "execution_count": 10,
   "metadata": {},
   "outputs": [
    {
     "name": "stdout",
     "output_type": "stream",
     "text": [
      "EVALUATION\n",
      "32/32 [==============================] - 0s 319us/step - loss: 0.0302 - accuracy: 0.9950\n"
     ]
    },
    {
     "name": "stderr",
     "output_type": "stream",
     "text": [
      "/Users/datasith/Work/venv/lib/python3.8/site-packages/tensorflow/python/util/dispatch.py:1082: UserWarning: \"`sparse_categorical_crossentropy` received `from_logits=True`, but the `output` argument was produced by a sigmoid or softmax activation and thus does not represent logits. Was this intended?\"\n",
      "  return dispatch_target(*args, **kwargs)\n"
     ]
    },
    {
     "data": {
      "text/plain": [
       "[0.030163433402776718, 0.9950000047683716]"
      ]
     },
     "execution_count": 10,
     "metadata": {},
     "output_type": "execute_result"
    }
   ],
   "source": [
    "# load the test data and evaluate the model\n",
    "test_df = pd.read_csv('./datasets/linear/test.csv')\n",
    "test_x = np.column_stack((test_df.x0.values, test_df.x1.values))\n",
    "print(\"EVALUATION\")\n",
    "model.evaluate(test_x, test_df.label.values)"
   ]
  },
  {
   "cell_type": "code",
   "execution_count": null,
   "metadata": {},
   "outputs": [],
   "source": []
  }
 ],
 "metadata": {
  "interpreter": {
   "hash": "6d23b6ce06cef9a43c42598a33140bfd5d2a5cd66dc37a3339483c8b5d0164e0"
  },
  "kernelspec": {
   "display_name": "Python 3.8.9 ('venv': venv)",
   "language": "python",
   "name": "python3"
  },
  "language_info": {
   "codemirror_mode": {
    "name": "ipython",
    "version": 3
   },
   "file_extension": ".py",
   "mimetype": "text/x-python",
   "name": "python",
   "nbconvert_exporter": "python",
   "pygments_lexer": "ipython3",
   "version": "3.8.9"
  },
  "orig_nbformat": 4
 },
 "nbformat": 4,
 "nbformat_minor": 2
}
